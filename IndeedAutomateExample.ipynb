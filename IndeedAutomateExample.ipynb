{
 "cells": [
  {
   "cell_type": "code",
   "execution_count": 1,
   "metadata": {},
   "outputs": [],
   "source": [
    "import requests\n",
    "from bs4 import BeautifulSoup"
   ]
  },
  {
   "cell_type": "code",
   "execution_count": 8,
   "metadata": {},
   "outputs": [],
   "source": [
    "position = \"Python\"\n",
    "city = \"New+York\""
   ]
  },
  {
   "cell_type": "code",
   "execution_count": 9,
   "metadata": {},
   "outputs": [
    {
     "name": "stdout",
     "output_type": "stream",
     "text": [
      "Processing: https://www.indeed.com/jobs?q=Python&l=New+York\n"
     ]
    }
   ],
   "source": [
    "url = \"https://www.indeed.com/jobs?q={}&l={}\".format(position,city)\n",
    "print (\"Processing: \"+url)\n",
    "page = requests.get(url)\n",
    "bsobj = BeautifulSoup(page.content, \"html.parser\")"
   ]
  },
  {
   "cell_type": "code",
   "execution_count": 10,
   "metadata": {},
   "outputs": [],
   "source": [
    "titles = bsobj.findAll(\"a\", {\"data-tn-element\":\"jobTitle\"})\n",
    "# print(titles)\n",
    "titles = [t.get_text().strip() for t in titles]\n",
    "# titles"
   ]
  },
  {
   "cell_type": "code",
   "execution_count": 11,
   "metadata": {},
   "outputs": [],
   "source": [
    "salary = bsobj.findAll(\"span\", class_=\"no-wrap\")\n",
    "salary = [t.get_text().strip() for t in salary]"
   ]
  },
  {
   "cell_type": "code",
   "execution_count": 12,
   "metadata": {},
   "outputs": [
    {
     "name": "stdout",
     "output_type": "stream",
     "text": [
      "\n",
      "\n",
      "    Title: Python Developer\n",
      "    Salary: relevance -\n",
      "date\n",
      "\n",
      "    \n",
      "\n",
      "\n",
      "    Title: Android App Developer\n",
      "    Salary: $35 - $45 an hour\n",
      "\n",
      "    \n",
      "\n",
      "\n",
      "    Title: Production Support Engineer\n",
      "    Salary: $65,000 - $75,000 a year\n",
      "\n",
      "    \n",
      "\n",
      "\n",
      "    Title: Python Developer\n",
      "    Salary: $125,000 - $135,000 a year\n",
      "\n",
      "    \n",
      "\n",
      "\n",
      "    Title: Python Developer\n",
      "    Salary: $70 - $75 an hour\n",
      "\n",
      "    \n",
      "\n",
      "\n",
      "    Title: BVAL Corporate Bond Evaluator\n",
      "    Salary: $2,000 - $4,000 a month\n",
      "\n",
      "    \n",
      "\n",
      "\n",
      "    Title: Python Developer\n",
      "    Salary: $40 - $55 an hour\n",
      "\n",
      "    \n",
      "\n",
      "\n",
      "    Title: Sports Betting Data Scientist\n",
      "    Salary: $100,000 - $125,000 a year\n",
      "\n",
      "    \n"
     ]
    }
   ],
   "source": [
    "TMPL = '''\n",
    "\n",
    "    Title: {title}\n",
    "    Salary: {salary}\n",
    "\n",
    "    '''\n",
    "positions = zip(titles, salary)\n",
    "\n",
    "for pos in positions:\n",
    "    print(TMPL.format(title=pos[0],salary=pos[1]))"
   ]
  },
  {
   "cell_type": "code",
   "execution_count": null,
   "metadata": {},
   "outputs": [],
   "source": []
  },
  {
   "cell_type": "code",
   "execution_count": null,
   "metadata": {},
   "outputs": [],
   "source": []
  }
 ],
 "metadata": {
  "kernelspec": {
   "display_name": "Python 3",
   "language": "python",
   "name": "python3"
  },
  "language_info": {
   "codemirror_mode": {
    "name": "ipython",
    "version": 3
   },
   "file_extension": ".py",
   "mimetype": "text/x-python",
   "name": "python",
   "nbconvert_exporter": "python",
   "pygments_lexer": "ipython3",
   "version": "3.7.6"
  }
 },
 "nbformat": 4,
 "nbformat_minor": 4
}
