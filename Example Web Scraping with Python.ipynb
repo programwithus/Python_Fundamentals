{
 "cells": [
  {
   "cell_type": "markdown",
   "metadata": {},
   "source": [
    "# Web Scraping with Python"
   ]
  },
  {
   "cell_type": "markdown",
   "metadata": {},
   "source": [
    "### SPECIAL OFFER"
   ]
  },
  {
   "cell_type": "markdown",
   "metadata": {},
   "source": [
    "http://programwithus.online/specialdeal/"
   ]
  },
  {
   "cell_type": "markdown",
   "metadata": {},
   "source": [
    "Web site for scraping"
   ]
  },
  {
   "cell_type": "markdown",
   "metadata": {},
   "source": [
    "https://www.investing.com/news/commodities-news"
   ]
  },
  {
   "cell_type": "markdown",
   "metadata": {},
   "source": [
    "Goal is to gather News titles"
   ]
  },
  {
   "cell_type": "code",
   "execution_count": 2,
   "metadata": {},
   "outputs": [],
   "source": [
    "import requests\n",
    "from bs4 import BeautifulSoup"
   ]
  },
  {
   "cell_type": "code",
   "execution_count": 6,
   "metadata": {},
   "outputs": [
    {
     "name": "stdout",
     "output_type": "stream",
     "text": [
      "Processing: https://www.investing.com/news/commodities-news\n",
      "\n",
      "\n",
      "    Title: U.S. Crude Stockpiles Rose 1.2M Barrels: EIA\n",
      "\n",
      "    Read More: /news/commodities-news/us-crude-stockpiles-rose-12m-barrels-eia-2204611\n",
      "\n",
      "    \n",
      "\n",
      "\n",
      "    Title: Top 5 Things to Know in the Market on Wednesday, June 17th\n",
      "\n",
      "    Read More: /news/economy/top-5-things-to-know-in-the-market-on-wednesday-june-17th-2204259\n",
      "\n",
      "    \n",
      "\n",
      "\n",
      "    Title: Stocks - U.S. Futures Higher as Recovery Hopes Outweigh Virus Worries\n",
      "\n",
      "    Read More: /news/stock-market-news/stocks--us-futures-higher-as-recovery-hopes-outweigh-virus-worries-2204272\n",
      "\n",
      "    \n",
      "\n",
      "\n",
      "    Title: If Stimulus Spurs A Commodity Rally, This PICK Has Lots Of Upside Potential\n",
      "\n",
      "    Read More: /analysis/if-stimulus-spurs-a-commodity-rally-this-pick-has-lots-of-upside-potential-200527950\n",
      "\n",
      "    \n",
      "\n",
      "\n",
      "    Title: 3 Defensive Stocks To Bet On As Second Wave Risk Hits Markets\n",
      "\n",
      "    Read More: /analysis/3-defensive-stocks-to-bet-on-as-second-wave-risk-hits-markets-200527686\n",
      "\n",
      "    \n"
     ]
    }
   ],
   "source": [
    "headers = {'User-Agent': 'Mozilla/5.0'}\n",
    "\n",
    "TMPL = '''\n",
    "\n",
    "    Title: {}\n",
    "\n",
    "    Read More: {}\n",
    "\n",
    "    '''\n",
    "\n",
    "url = \"https://www.investing.com/news/commodities-news\"\n",
    "print (\"Processing: \"+url)\n",
    "page = requests.get(furl,headers=headers)\n",
    "bsobj = BeautifulSoup(page.content, \"html.parser\")\n",
    "\n",
    "\n",
    "\n",
    "title = bsobj.find_all('a', {\"class\":\"title\"})\n",
    "titles = [i.get_text() for i in title]\n",
    "hrefs = bsobj.find_all('a', {\"class\":\"title\"}, href=True)\n",
    "hrefs = [link['href'].strip() for link in hrefs]\n",
    "\n",
    "listofnews = list(zip(titles,hrefs))\n",
    "\n",
    "\n",
    "for pos in listofnews[:5]:\n",
    "    print(TMPL.format(pos[0],pos[1]))"
   ]
  },
  {
   "cell_type": "markdown",
   "metadata": {},
   "source": [
    "# Scrape each article"
   ]
  },
  {
   "cell_type": "markdown",
   "metadata": {},
   "source": [
    "Let's get snippet of each article"
   ]
  },
  {
   "cell_type": "code",
   "execution_count": 17,
   "metadata": {},
   "outputs": [
    {
     "name": "stdout",
     "output_type": "stream",
     "text": [
      "\n",
      "\n",
      "    Title: U.S. Crude Stockpiles Rose 1.2M Barrels: EIA\n",
      "\n",
      "    Snippet: \n",
      "\n",
      "\n",
      "© Reuters.  \n",
      "\n",
      "\n",
      "Investing.com --  Stockpiles of U.S. crude oil rose 1.2 million barrels, the Energy  Information Administration said Wednesday, confounding expectations.\n",
      "Analysts tracked by Investing.com had forecast a draw of 152,000 barrels compared to a build of 5.7 million barrels the previous week.\n",
      "U.S. commercial crude oil inventories, excl\n",
      "\n",
      "    \n",
      "\n",
      "\n",
      "    Title: Top 5 Things to Know in the Market on Wednesday, June 17th\n",
      "\n",
      "    Snippet: \n",
      "\n",
      "\n",
      "© Reuters.  \n",
      "\n",
      "\n",
      "By Geoffrey Smith \n",
      "Investing.com -- China tightens lockdown restrictions to stop a second wave of infections in and around Beijing, while its soldiers come to deadly blows with India's on a disputed border. The two Koreas are also at each other's throats. Stocks are set to open modestly higher, ahead of Fed Chair Jerome Powell's s\n",
      "\n",
      "    \n",
      "\n",
      "\n",
      "    Title: Stocks - U.S. Futures Higher as Recovery Hopes Outweigh Virus Worries\n",
      "\n",
      "    Snippet: \n",
      "\n",
      "\n",
      "© Reuters.  \n",
      "\n",
      "\n",
      "By Peter Nurse   \n",
      "Investing.com - U.S. stocks are set to open higher Wednesday on continued confidence in a prompt economic recovery, but gains are likely to be limited given worries about a coronavirus resurgence.\n",
      "At 7 AM ET (1100 GMT),S&P 500 Futures traded 18 points, or 0.6%, higher, and Nasdaq 100 Futures up 56 points, or 0.6%\n",
      "\n",
      "    \n"
     ]
    }
   ],
   "source": [
    "\n",
    "TMPL = '''\n",
    "\n",
    "    Title: {}\n",
    "\n",
    "    Snippet: {}\n",
    "\n",
    "    '''\n",
    "\n",
    "for i in listofnews[:3]:\n",
    "\n",
    "    page = requests.get(\"https://www.investing.com/\"+i[1],headers=headers)\n",
    "    bsobj = BeautifulSoup(page.content, \"html.parser\")\n",
    "    article = bsobj.find(\"div\", {\"class\":\"articlePage\"})\n",
    "    print(TMPL.format(i[0],article.get_text()[:350]))"
   ]
  },
  {
   "cell_type": "code",
   "execution_count": null,
   "metadata": {},
   "outputs": [],
   "source": []
  }
 ],
 "metadata": {
  "kernelspec": {
   "display_name": "Python 3",
   "language": "python",
   "name": "python3"
  },
  "language_info": {
   "codemirror_mode": {
    "name": "ipython",
    "version": 3
   },
   "file_extension": ".py",
   "mimetype": "text/x-python",
   "name": "python",
   "nbconvert_exporter": "python",
   "pygments_lexer": "ipython3",
   "version": "3.7.6"
  }
 },
 "nbformat": 4,
 "nbformat_minor": 4
}
